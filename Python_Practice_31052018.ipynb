{
 "cells": [
  {
   "cell_type": "code",
   "execution_count": 1,
   "metadata": {},
   "outputs": [
    {
     "name": "stdout",
     "output_type": "stream",
     "text": [
      "None\n"
     ]
    }
   ],
   "source": [
    "a = ['aaa','bcb','xcv']\n",
    "print(a.sort())"
   ]
  },
  {
   "cell_type": "code",
   "execution_count": 2,
   "metadata": {},
   "outputs": [
    {
     "name": "stdout",
     "output_type": "stream",
     "text": [
      "None\n"
     ]
    }
   ],
   "source": [
    "b = [10,20,16,3,0]\n",
    "print(a.sort())"
   ]
  },
  {
   "cell_type": "code",
   "execution_count": 3,
   "metadata": {},
   "outputs": [
    {
     "name": "stdout",
     "output_type": "stream",
     "text": [
      "<class 'list'>\n"
     ]
    }
   ],
   "source": [
    "print(type(b))"
   ]
  },
  {
   "cell_type": "code",
   "execution_count": 4,
   "metadata": {},
   "outputs": [
    {
     "name": "stdout",
     "output_type": "stream",
     "text": [
      "ENO\n"
     ]
    }
   ],
   "source": [
    "a = 'ONE'\n",
    "print(a[::-1])"
   ]
  },
  {
   "cell_type": "code",
   "execution_count": 5,
   "metadata": {},
   "outputs": [
    {
     "name": "stdout",
     "output_type": "stream",
     "text": [
      "O\n",
      "N\n",
      "E\n"
     ]
    }
   ],
   "source": [
    "a = 'ONE'\n",
    "for i in a:\n",
    "    print(i)"
   ]
  },
  {
   "cell_type": "code",
   "execution_count": 11,
   "metadata": {},
   "outputs": [
    {
     "name": "stdout",
     "output_type": "stream",
     "text": [
      "E\n",
      "N\n",
      "O\n"
     ]
    }
   ],
   "source": [
    "b = a[::-1]\n",
    "for i in range(len(a)-1,-1,-1):\n",
    "  print(a[i])"
   ]
  },
  {
   "cell_type": "code",
   "execution_count": 37,
   "metadata": {},
   "outputs": [
    {
     "name": "stdout",
     "output_type": "stream",
     "text": [
      "O --> E\n",
      "N --> N\n",
      "E --> O\n"
     ]
    }
   ],
   "source": [
    "for a1,b1 in zip(a,b):\n",
    "    print(\"%s --> %s\" %(a1,b1))\n",
    "    "
   ]
  },
  {
   "cell_type": "code",
   "execution_count": 16,
   "metadata": {},
   "outputs": [
    {
     "name": "stdout",
     "output_type": "stream",
     "text": [
      "O\n",
      "NN\n",
      "EEE\n"
     ]
    }
   ],
   "source": [
    "i = 1\n",
    "for a1 in a:\n",
    "    print(a1*i)\n",
    "    i +=1\n",
    "    "
   ]
  },
  {
   "cell_type": "code",
   "execution_count": 20,
   "metadata": {},
   "outputs": [
    {
     "name": "stdout",
     "output_type": "stream",
     "text": [
      "0\n",
      "1\n",
      "4\n",
      "9\n",
      "16\n"
     ]
    }
   ],
   "source": [
    "for i in range(5):\n",
    "    print(i*i)"
   ]
  },
  {
   "cell_type": "code",
   "execution_count": 33,
   "metadata": {},
   "outputs": [
    {
     "name": "stdout",
     "output_type": "stream",
     "text": [
      "\n",
      "\n",
      "*\n",
      "\n",
      "*\n",
      "**\n",
      "\n",
      "*\n",
      "**\n",
      "***\n",
      "\n",
      "*\n",
      "**\n",
      "***\n",
      "****\n"
     ]
    }
   ],
   "source": [
    "for i in range(6):\n",
    "    for j in range(i):\n",
    "        print('*'*j)\n",
    "        \n",
    "  "
   ]
  },
  {
   "cell_type": "code",
   "execution_count": 34,
   "metadata": {},
   "outputs": [
    {
     "name": "stdout",
     "output_type": "stream",
     "text": [
      "O   E\n",
      "NN  NN\n",
      "EEE OOO\n"
     ]
    }
   ],
   "source": [
    "i = 1\n",
    "for a1,b1 in zip(a,b):\n",
    "    print(\"%-3s %s\" %(a1*i,b1*i))\n",
    "    i+=1"
   ]
  },
  {
   "cell_type": "code",
   "execution_count": 40,
   "metadata": {},
   "outputs": [
    {
     "name": "stdout",
     "output_type": "stream",
     "text": [
      "0\n",
      "1\n",
      "*\n",
      "2\n",
      "**\n",
      "**\n",
      "3\n",
      "***\n",
      "***\n",
      "***\n"
     ]
    }
   ],
   "source": [
    "for i in range(4):\n",
    "    print(i)\n",
    "    for j in range(i):\n",
    "        print('*'*i)"
   ]
  },
  {
   "cell_type": "code",
   "execution_count": 42,
   "metadata": {},
   "outputs": [
    {
     "ename": "TypeError",
     "evalue": "reversed expected 1 arguments, got 0",
     "output_type": "error",
     "traceback": [
      "\u001b[1;31m---------------------------------------------------------------------------\u001b[0m",
      "\u001b[1;31mTypeError\u001b[0m                                 Traceback (most recent call last)",
      "\u001b[1;32m<ipython-input-42-6d57e0fcbdf7>\u001b[0m in \u001b[0;36m<module>\u001b[1;34m()\u001b[0m\n\u001b[1;32m----> 1\u001b[1;33m \u001b[0ma\u001b[0m\u001b[1;33m.\u001b[0m\u001b[0mjoin\u001b[0m\u001b[1;33m(\u001b[0m\u001b[0mreversed\u001b[0m\u001b[1;33m(\u001b[0m\u001b[1;33m)\u001b[0m\u001b[1;33m)\u001b[0m\u001b[1;33m\u001b[0m\u001b[0m\n\u001b[0m",
      "\u001b[1;31mTypeError\u001b[0m: reversed expected 1 arguments, got 0"
     ]
    }
   ],
   "source": [
    "a.join(reversed())"
   ]
  },
  {
   "cell_type": "code",
   "execution_count": 47,
   "metadata": {},
   "outputs": [
    {
     "data": {
      "text/plain": [
       "'EONENONEO'"
      ]
     },
     "execution_count": 47,
     "metadata": {},
     "output_type": "execute_result"
    }
   ],
   "source": [
    "a.join(reversed(a))"
   ]
  },
  {
   "cell_type": "code",
   "execution_count": 48,
   "metadata": {},
   "outputs": [
    {
     "name": "stdout",
     "output_type": "stream",
     "text": [
      "One\n"
     ]
    }
   ],
   "source": [
    "print(a.capitalize())"
   ]
  },
  {
   "cell_type": "code",
   "execution_count": 51,
   "metadata": {},
   "outputs": [
    {
     "name": "stdout",
     "output_type": "stream",
     "text": [
      "Hello hello hello\n",
      "Hello Hello Hello\n"
     ]
    }
   ],
   "source": [
    "str = \"Hello Hello HELLO\"\n",
    "print(str.capitalize())\n",
    "print(str.title())"
   ]
  },
  {
   "cell_type": "code",
   "execution_count": 53,
   "metadata": {},
   "outputs": [
    {
     "name": "stdout",
     "output_type": "stream",
     "text": [
      "ENO\n"
     ]
    }
   ],
   "source": [
    "print(''.join(reversed(a)))"
   ]
  },
  {
   "cell_type": "code",
   "execution_count": 56,
   "metadata": {},
   "outputs": [
    {
     "name": "stdout",
     "output_type": "stream",
     "text": [
      "['a', 'e', 'i', 'o', 'u']\n"
     ]
    }
   ],
   "source": [
    "vowels = ['a','o','u','e','i']\n",
    "vowels.sort()\n",
    "print(vowels)"
   ]
  },
  {
   "cell_type": "code",
   "execution_count": 60,
   "metadata": {},
   "outputs": [
    {
     "name": "stdout",
     "output_type": "stream",
     "text": [
      "1 aaaa 1000.0\n",
      "1 - aaaa - 1000.0\n",
      "1\n",
      "aaaa\n",
      "1000.0\n"
     ]
    }
   ],
   "source": [
    "id = 1\n",
    "name = 'aaaa'\n",
    "sal = 1000.00\n",
    "print(\"{} {} {}\".format(id,name,sal))\n",
    "print(\"{} - {} - {}\".format(id,name,sal))\n",
    "print(\"{}\\n{}\\n{}\".format(id,name,sal))\n"
   ]
  },
  {
   "cell_type": "code",
   "execution_count": 65,
   "metadata": {},
   "outputs": [
    {
     "name": "stdout",
     "output_type": "stream",
     "text": [
      "1-aaaa-1000.0\n",
      "1/aaaa/1000.0\n"
     ]
    }
   ],
   "source": [
    "print(\"{a}-{b}-{c}\".format(a = id, b=name, c= sal))\n",
    "print(\"{a}/{b}/{c}\".format(b=name,c=sal,a=id))"
   ]
  },
  {
   "cell_type": "code",
   "execution_count": 69,
   "metadata": {},
   "outputs": [
    {
     "name": "stdout",
     "output_type": "stream",
     "text": [
      "1 aaaa 1000.000000\n",
      "1 aaaa 1000\n",
      "1 aaaa 1000.0\n"
     ]
    }
   ],
   "source": [
    "print(\"%d %s %f\" %(id,name,sal))\n",
    "print(\"%d %s %d\" %(id,name,sal))\n",
    "print(\"%s %s %s\" %(id,name,sal))"
   ]
  },
  {
   "cell_type": "code",
   "execution_count": 74,
   "metadata": {},
   "outputs": [
    {
     "name": "stdout",
     "output_type": "stream",
     "text": [
      "['SDJQJ', 'dgvf', 'dhb', 'xvc']\n",
      "['SDJQJ', 'dgvf', 'dhb', 'xvc']\n"
     ]
    }
   ],
   "source": [
    "a = ['xvc','dgvf','dhb','SDJQJ']\n",
    "b = sorted(a)\n",
    "a.sort()\n",
    "print(b)\n",
    "print(a)"
   ]
  },
  {
   "cell_type": "code",
   "execution_count": 86,
   "metadata": {},
   "outputs": [
    {
     "name": "stdout",
     "output_type": "stream",
     "text": [
      "Enter how many users you want to add:\n",
      "2\n",
      "Enter user name:\n",
      "aaa\n",
      "['aaa']\n"
     ]
    }
   ],
   "source": [
    "no_users = input(\"Enter how many users you want to add:\\n\")\n",
    "users = []\n",
    "i = 0\n",
    "for i in no_users:\n",
    "    users_list = input(\"Enter user name:\\n\")\n",
    "    users.append(users_list)\n",
    "\n",
    "print(users)"
   ]
  },
  {
   "cell_type": "code",
   "execution_count": 83,
   "metadata": {},
   "outputs": [
    {
     "name": "stdout",
     "output_type": "stream",
     "text": [
      "How Many Strings?\n",
      "3\n",
      "Enter the string:aaa\n",
      "Enter the string:bbb\n",
      "Enter the string:cccc\n",
      "sorted list is\n",
      "aaa\n",
      "bbb\n",
      "cccc\n"
     ]
    }
   ],
   "source": [
    "str1 = \"   How many strings? \\n \"\n",
    "print(str1.title().strip())\n",
    "n = int(input())\n",
    "cities = []\n",
    "\n",
    "for i in range(n):\n",
    " str2=\"Enter the string\"\n",
    " print(str2,end = \":\")\n",
    " str3=input()\n",
    " cities.append(str3)\n",
    "\n",
    "sorted_lst = sorted(cities)\n",
    "\n",
    "print(\"sorted list is\")\n",
    "\n",
    "for i in range(n):\n",
    " print(sorted_lst[i])"
   ]
  },
  {
   "cell_type": "code",
   "execution_count": 87,
   "metadata": {},
   "outputs": [
    {
     "name": "stdout",
     "output_type": "stream",
     "text": [
      "Enter how many users you want to add:\n",
      "\n",
      "3\n"
     ]
    },
    {
     "ename": "TypeError",
     "evalue": "'int' object is not iterable",
     "output_type": "error",
     "traceback": [
      "\u001b[1;31m---------------------------------------------------------------------------\u001b[0m",
      "\u001b[1;31mTypeError\u001b[0m                                 Traceback (most recent call last)",
      "\u001b[1;32m<ipython-input-87-839a19c3797e>\u001b[0m in \u001b[0;36m<module>\u001b[1;34m()\u001b[0m\n\u001b[0;32m      3\u001b[0m \u001b[0musers\u001b[0m \u001b[1;33m=\u001b[0m \u001b[1;33m[\u001b[0m\u001b[1;33m]\u001b[0m\u001b[1;33m\u001b[0m\u001b[0m\n\u001b[0;32m      4\u001b[0m \u001b[0mi\u001b[0m \u001b[1;33m=\u001b[0m \u001b[1;36m0\u001b[0m\u001b[1;33m\u001b[0m\u001b[0m\n\u001b[1;32m----> 5\u001b[1;33m \u001b[1;32mfor\u001b[0m \u001b[0mi\u001b[0m \u001b[1;32min\u001b[0m \u001b[0mn\u001b[0m\u001b[1;33m:\u001b[0m\u001b[1;33m\u001b[0m\u001b[0m\n\u001b[0m\u001b[0;32m      6\u001b[0m     \u001b[0musers_list\u001b[0m \u001b[1;33m=\u001b[0m \u001b[0minput\u001b[0m\u001b[1;33m(\u001b[0m\u001b[1;34m\"Enter user name:\\n\"\u001b[0m\u001b[1;33m)\u001b[0m\u001b[1;33m\u001b[0m\u001b[0m\n\u001b[0;32m      7\u001b[0m     \u001b[0musers\u001b[0m\u001b[1;33m.\u001b[0m\u001b[0mappend\u001b[0m\u001b[1;33m(\u001b[0m\u001b[0musers_list\u001b[0m\u001b[1;33m)\u001b[0m\u001b[1;33m\u001b[0m\u001b[0m\n",
      "\u001b[1;31mTypeError\u001b[0m: 'int' object is not iterable"
     ]
    }
   ],
   "source": [
    "no_users = print(\"Enter how many users you want to add:\\n\")\n",
    "n = int(input())\n",
    "users = []\n",
    "i = 0\n",
    "for i in n:\n",
    "    users_list = input(\"Enter user name:\\n\")\n",
    "    users.append(users_list)\n",
    "\n",
    "print(users)"
   ]
  },
  {
   "cell_type": "code",
   "execution_count": 94,
   "metadata": {},
   "outputs": [
    {
     "name": "stdout",
     "output_type": "stream",
     "text": [
      "Enter no of users you want to add:3\n",
      "Enter name:\n",
      "aaa\n",
      "Enter name:\n",
      "bbb\n",
      "Enter name:\n",
      "ccc\n",
      "['aaa', 'bbb', 'ccc']\n"
     ]
    }
   ],
   "source": [
    "n = int(input(\"Enter no of users you want to add:\"))\n",
    "users=[]\n",
    "for i in range(n):\n",
    "    user_list = input(\"Enter name:\\n\")\n",
    "    users.append(user_list)\n",
    "\n",
    "print(users)\n",
    "    "
   ]
  },
  {
   "cell_type": "code",
   "execution_count": 98,
   "metadata": {},
   "outputs": [
    {
     "name": "stdout",
     "output_type": "stream",
     "text": [
      "Enter mobile number:\n",
      "84546456\n",
      "Please Enter a valid mobile number\n"
     ]
    }
   ],
   "source": [
    "n = input(\"Enter mobile number:\\n\")\n",
    "if(n.isdigit()):\n",
    "   if len(n) != 10:\n",
    "      print(\"Please Enter a valid mobile number\")\n",
    "   else:\n",
    "      print(\"mobile number is valid\")\n",
    "else:\n",
    "    print(\"Please enter digits from [0-9]\")\n",
    "      "
   ]
  },
  {
   "cell_type": "code",
   "execution_count": 114,
   "metadata": {},
   "outputs": [
    {
     "name": "stdout",
     "output_type": "stream",
     "text": [
      "Enter The Numbers Of Students You Want To Register Here:\n",
      "1\n",
      "Enter Your Id0:\n",
      "1\n",
      "Enter Your Name:\n",
      "aaa\n",
      "Enter Mobile Number:\n",
      "0123456789\n",
      "Entered Details:\n",
      "\n",
      "1 aaa    0123456789\n",
      "Please Enter Id/Name/Mobile_Number To Search:\n",
      "bbb\n",
      "Entered Name Is Not Found\n"
     ]
    }
   ],
   "source": [
    "import sys\n",
    "n = int(input(\"Enter the numbers of students you want to register here:\\n\".title()))\n",
    "ID = []\n",
    "NAME = []\n",
    "MOBILE_NUMBER = []\n",
    "for i in range(n):\n",
    "    ID_LIST = input(\"Enter your id{}:\\n\".format(i).title())\n",
    "    if(ID_LIST.isdigit()):\n",
    "        ID.append(ID_LIST)\n",
    "    else:\n",
    "        print(\"Please Enter a numbers between 0 to 9\".title())\n",
    "        sys.exit(1)\n",
    "    NAME_LIST = input(\"Enter your name:\\n\".title())\n",
    "    if(NAME_LIST.isalpha()):\n",
    "        NAME.append(NAME_LIST)\n",
    "    else:\n",
    "        print(\"Please Enter only alphabets from [A-Z] or [a-z]\")\n",
    "        sys.exit(1)\n",
    "    MOBILE_NUMBER_LIST = input(\"Enter mobile number:\\n\".title())\n",
    "    if(MOBILE_NUMBER_LIST.isdigit()):\n",
    "        if(len(MOBILE_NUMBER_LIST) == 10):\n",
    "            MOBILE_NUMBER.append(MOBILE_NUMBER_LIST)\n",
    "        else:\n",
    "            print(\"Please Enter a valid mobile number with only 10 digits\".title())\n",
    "            sys.exit(1)\n",
    "    else:\n",
    "        print(\"Please Enter only digits\".capitalize())\n",
    "        sys.exit(1)\n",
    "\n",
    "print(\"Entered Details:\\n\".title())\n",
    "for ids,names,mobile_numbers in zip(ID,NAME,MOBILE_NUMBER):\n",
    "    print(\"%s %-6s %-6s\" %(ids,names,mobile_numbers))\n",
    "\n",
    "m = input(\"Please enter id/name/mobile_number to search:\\n\".title())\n",
    "for i in range(n):\n",
    "    if(m.isdigit()):\n",
    "        if(int(m) == ID[i]):\n",
    "            print(\"Entered id is found\".capitalize())\n",
    "        elif(int(m) == MOBILE_NUMBER[i]):\n",
    "            print(\"Entered mobile_number is found\".capitalize())\n",
    "        else:\n",
    "            print(\"Entered ID/MOBILE_NUMBER is not in the list\".capitalize())\n",
    "    elif(m.isalpha()):\n",
    "        if(m == NAME[i]):\n",
    "            print(\"Entered name is found\".capitalize())\n",
    "        else:\n",
    "            print(\"Entered Name is not found\".capitalize())"
   ]
  },
  {
   "cell_type": "code",
   "execution_count": 120,
   "metadata": {},
   "outputs": [
    {
     "name": "stdout",
     "output_type": "stream",
     "text": [
      "ENter number to search10\n",
      "not found\n"
     ]
    }
   ],
   "source": [
    "lst = [10,20,30]\n",
    "m = input(\"ENter number to search\")\n",
    "if m in lst:\n",
    "    print(\"found\")\n",
    "else:\n",
    "    print(\"not found\")"
   ]
  },
  {
   "cell_type": "code",
   "execution_count": 121,
   "metadata": {},
   "outputs": [
    {
     "data": {
      "text/plain": [
       "str"
      ]
     },
     "execution_count": 121,
     "metadata": {},
     "output_type": "execute_result"
    }
   ],
   "source": [
    "type(m)"
   ]
  },
  {
   "cell_type": "code",
   "execution_count": 131,
   "metadata": {},
   "outputs": [
    {
     "name": "stdout",
     "output_type": "stream",
     "text": [
      "Enter The Numbers Of Students You Want To Register Here:\n",
      "1\n",
      "Enter Your Id0:\n",
      "ffd\n",
      "Please Enter A Numbers Between 0 To 9\n"
     ]
    },
    {
     "ename": "SystemExit",
     "evalue": "",
     "output_type": "error",
     "traceback": [
      "An exception has occurred, use %tb to see the full traceback.\n",
      "\u001b[1;31mSystemExit\u001b[0m\n"
     ]
    },
    {
     "name": "stderr",
     "output_type": "stream",
     "text": [
      "e:\\ngade\\narasimha\\newfolder\\python\\python\\venv\\lib\\site-packages\\IPython\\core\\interactiveshell.py:2971: UserWarning: To exit: use 'exit', 'quit', or Ctrl-D.\n",
      "  warn(\"To exit: use 'exit', 'quit', or Ctrl-D.\", stacklevel=1)\n"
     ]
    }
   ],
   "source": [
    "import sys\n",
    "n = int(input(\"Enter the numbers of students you want to register here:\\n\".title()))\n",
    "ID = []\n",
    "NAME = []\n",
    "MOBILE_NUMBER = []\n",
    "for i in range(n):\n",
    "    ID_LIST = input(\"Enter your id{}:\\n\".format(i).title())\n",
    "    if(ID_LIST.isdigit()):\n",
    "        ID.append(ID_LIST)\n",
    "    else:\n",
    "        print(\"Please Enter only digits\".title())\n",
    "        sys.exit()\n",
    "    NAME_LIST = input(\"Enter your name:\\n\".title())\n",
    "    if(NAME_LIST.isalpha()):\n",
    "        NAME.append(NAME_LIST)\n",
    "    else:\n",
    "        print(\"Please Enter only alphabets from [A-Z] or [a-z]\")\n",
    "        sys.exit(1)\n",
    "    MOBILE_NUMBER_LIST = input(\"Enter mobile number:\\n\".title())\n",
    "    if(MOBILE_NUMBER_LIST.isdigit()):\n",
    "        if(len(MOBILE_NUMBER_LIST) == 10):\n",
    "            MOBILE_NUMBER.append(MOBILE_NUMBER_LIST)\n",
    "        else:\n",
    "            print(\"Please Enter a valid mobile number with only 10 digits\".title())\n",
    "            sys.exit(1)\n",
    "    else:\n",
    "        print(\"Please Enter only digits\".capitalize())\n",
    "        sys.exit(1)\n",
    "\n",
    "print(\"Entered Details:\\n\".title())\n",
    "for ids,names,mobile_numbers in zip(ID,NAME,MOBILE_NUMBER):\n",
    "    print(\"%s %-6s %-6s\" %(ids,names,mobile_numbers))\n",
    "\n",
    "m = input(\"Please enter id/name/mobile_number to search:\\n\".title())\n",
    "if(m.isdigit()):\n",
    "    if m in ID:\n",
    "        print(\"Entered ID is found\".capitalize())\n",
    "    elif m in MOBILE_NUMBER:\n",
    "        print(\"Entered MOBILE_NUMBER is found\".capitalize())\n",
    "    else:\n",
    "        print(\"Entered ID/MOBILE_NUMBER is not found\".capitalize())\n",
    "\n",
    "elif m in NAME:\n",
    "    print(\"Entered Name is found\".capitalize())\n",
    "else:\n",
    "    print(\"Entered Name is Not found\".capitalize())\n",
    "\n",
    "    "
   ]
  },
  {
   "cell_type": "code",
   "execution_count": null,
   "metadata": {},
   "outputs": [],
   "source": []
  },
  {
   "cell_type": "code",
   "execution_count": null,
   "metadata": {},
   "outputs": [],
   "source": []
  }
 ],
 "metadata": {
  "kernelspec": {
   "display_name": "Python 3",
   "language": "python",
   "name": "python3"
  },
  "language_info": {
   "codemirror_mode": {
    "name": "ipython",
    "version": 3
   },
   "file_extension": ".py",
   "mimetype": "text/x-python",
   "name": "python",
   "nbconvert_exporter": "python",
   "pygments_lexer": "ipython3",
   "version": "3.6.5"
  }
 },
 "nbformat": 4,
 "nbformat_minor": 2
}
