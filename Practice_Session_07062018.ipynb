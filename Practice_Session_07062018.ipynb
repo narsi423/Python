{
 "cells": [
  {
   "cell_type": "code",
   "execution_count": 4,
   "metadata": {},
   "outputs": [
    {
     "name": "stdout",
     "output_type": "stream",
     "text": [
      "<class 'tuple'>\n"
     ]
    }
   ],
   "source": [
    "tup = ()\n",
    "type(tup)\n",
    "print(type(tup))"
   ]
  },
  {
   "cell_type": "code",
   "execution_count": 5,
   "metadata": {},
   "outputs": [
    {
     "data": {
      "text/plain": [
       "float"
      ]
     },
     "execution_count": 5,
     "metadata": {},
     "output_type": "execute_result"
    }
   ],
   "source": [
    "tup = (20.0)\n",
    "type(tup)"
   ]
  },
  {
   "cell_type": "code",
   "execution_count": 6,
   "metadata": {},
   "outputs": [
    {
     "data": {
      "text/plain": [
       "tuple"
      ]
     },
     "execution_count": 6,
     "metadata": {},
     "output_type": "execute_result"
    }
   ],
   "source": [
    "tup = (20.0,)\n",
    "type(tup)"
   ]
  },
  {
   "cell_type": "code",
   "execution_count": 11,
   "metadata": {},
   "outputs": [
    {
     "name": "stdout",
     "output_type": "stream",
     "text": [
      "<class 'list'>\n",
      "<class 'tuple'>\n",
      "(10, 20, 30)\n",
      "[10, 20, 30]\n"
     ]
    }
   ],
   "source": [
    "lst = [10,20,30]\n",
    "print(type(lst))\n",
    "tup = tuple(lst)\n",
    "print(type(tup))\n",
    "print(tup)\n",
    "print(lst)"
   ]
  },
  {
   "cell_type": "code",
   "execution_count": 3,
   "metadata": {},
   "outputs": [
    {
     "name": "stdout",
     "output_type": "stream",
     "text": [
      "(1, 2, 3, 4, 5, 6, 7, 8, 9)\n",
      "(1, 3, 5, 7, 9)\n"
     ]
    }
   ],
   "source": [
    "a = tuple(range(1,10))\n",
    "print(a)\n",
    "b = tuple(range(1,10,2))\n",
    "print(b)\n"
   ]
  },
  {
   "cell_type": "code",
   "execution_count": 8,
   "metadata": {},
   "outputs": [
    {
     "name": "stdout",
     "output_type": "stream",
     "text": [
      "1\n",
      "(2, 3, 4, 5, 6, 7, 8, 9)\n",
      "(1, 2, 3)\n",
      "(3, 4, 5)\n",
      "9\n"
     ]
    }
   ],
   "source": [
    "print(a[0])\n",
    "print(a[1:])\n",
    "print(a[:3])\n",
    "print(a[2:5])\n",
    "print(a[-1])"
   ]
  },
  {
   "cell_type": "code",
   "execution_count": 15,
   "metadata": {},
   "outputs": [
    {
     "name": "stdout",
     "output_type": "stream",
     "text": [
      "101\n",
      "abc\n",
      "\n",
      "Student Marks:\n",
      "\n",
      "40\n",
      "50\n",
      "60\n",
      "70\n",
      "80\n"
     ]
    }
   ],
   "source": [
    "tup = (101,'abc',40,50,60,70,80)\n",
    "rno, name = tup[:2]\n",
    "print(rno)\n",
    "print(name)\n",
    "print(\"\\nStudent Marks:\\n\")\n",
    "for i in tup[2:]:\n",
    "    \n",
    "    print(i)"
   ]
  },
  {
   "cell_type": "code",
   "execution_count": 23,
   "metadata": {},
   "outputs": [
    {
     "name": "stdout",
     "output_type": "stream",
     "text": [
      "40\n",
      "90\n",
      "150\n",
      "220\n",
      "300\n",
      "300\n"
     ]
    }
   ],
   "source": [
    "len(tup)\n",
    "total = 0\n",
    "for i in tup[2:]:\n",
    "    total = total+i\n",
    "    print(total)\n",
    "\n",
    "print(total)\n"
   ]
  },
  {
   "cell_type": "code",
   "execution_count": 25,
   "metadata": {},
   "outputs": [
    {
     "data": {
      "text/plain": [
       "True"
      ]
     },
     "execution_count": 25,
     "metadata": {},
     "output_type": "execute_result"
    }
   ],
   "source": [
    "'abc' in tup\n",
    "\n"
   ]
  },
  {
   "cell_type": "code",
   "execution_count": 26,
   "metadata": {},
   "outputs": [
    {
     "data": {
      "text/plain": [
       "True"
      ]
     },
     "execution_count": 26,
     "metadata": {},
     "output_type": "execute_result"
    }
   ],
   "source": [
    "'abcd' not in tup"
   ]
  },
  {
   "cell_type": "code",
   "execution_count": 44,
   "metadata": {},
   "outputs": [
    {
     "name": "stdout",
     "output_type": "stream",
     "text": [
      "13\n",
      "1\n",
      "60\n",
      "4\n",
      "1\n",
      "[1, 2, 2, 2, 2, 4, 4, 5, 5, 10, 10, 20, 60]\n"
     ]
    }
   ],
   "source": [
    "tup1 = (1,4,2,10,60,20,5,2,2,2,4,5,10)\n",
    "print(len(tup1))\n",
    "print(min(tup1))\n",
    "print(max(tup1))\n",
    "print(tup1.count(2))\n",
    "print(tup1.index(4))\n",
    "print(sorted(tup1))\n"
   ]
  },
  {
   "cell_type": "code",
   "execution_count": 43,
   "metadata": {},
   "outputs": [
    {
     "name": "stdout",
     "output_type": "stream",
     "text": [
      "[60, 20, 10, 10, 5, 5, 4, 4, 2, 2, 2, 2, 1]\n"
     ]
    }
   ],
   "source": [
    "reversed(tup1)\n",
    "print(sorted(tup1,reverse=True))"
   ]
  },
  {
   "cell_type": "code",
   "execution_count": 46,
   "metadata": {},
   "outputs": [
    {
     "name": "stdout",
     "output_type": "stream",
     "text": [
      "Enter elements in ():[1,2,3,4]\n",
      "[1, 2, 3, 4]\n"
     ]
    }
   ],
   "source": [
    "num =eval(input(\"Enter elements in ():\"))\n",
    "print(num)"
   ]
  },
  {
   "cell_type": "code",
   "execution_count": 47,
   "metadata": {},
   "outputs": [
    {
     "name": "stdout",
     "output_type": "stream",
     "text": [
      "Enter elements in ():20,30,40\n",
      "(20, 30, 40)\n"
     ]
    }
   ],
   "source": [
    "num =eval(input(\"Enter elements in ():\"))\n",
    "print(num)"
   ]
  },
  {
   "cell_type": "code",
   "execution_count": 48,
   "metadata": {},
   "outputs": [
    {
     "name": "stdout",
     "output_type": "stream",
     "text": [
      "Enter elements in ():'aaa','bbb','vvvv'\n",
      "('aaa', 'bbb', 'vvvv')\n"
     ]
    }
   ],
   "source": [
    "num =eval(input(\"Enter elements in ():\"))\n",
    "print(num)"
   ]
  },
  {
   "cell_type": "code",
   "execution_count": 54,
   "metadata": {},
   "outputs": [
    {
     "name": "stdout",
     "output_type": "stream",
     "text": [
      "Enter the lenght of the tuple you want to give:2\n",
      "Enter number in ():10,90\n",
      "SUM is : 100\n",
      "Avg is : 50.0\n"
     ]
    }
   ],
   "source": [
    "n = eval(input(\"Enter the lenght of the tuple you want to give:\"))\n",
    "num = eval(input(\"Enter number in ():\"))\n",
    "\n",
    "s = 0\n",
    "for i in num:\n",
    "    s =s+i\n",
    "print(\"SUM is :\", s)\n",
    "print(\"Avg is :\",s/n)"
   ]
  },
  {
   "cell_type": "code",
   "execution_count": 55,
   "metadata": {},
   "outputs": [
    {
     "name": "stdout",
     "output_type": "stream",
     "text": [
      "(1, 2, 3, 4, 5, 6, 7, 8, 9)\n"
     ]
    }
   ],
   "source": [
    "print(a)"
   ]
  },
  {
   "cell_type": "code",
   "execution_count": 56,
   "metadata": {},
   "outputs": [
    {
     "ename": "TypeError",
     "evalue": "'tuple' object does not support item assignment",
     "output_type": "error",
     "traceback": [
      "\u001b[1;31m---------------------------------------------------------------------------\u001b[0m",
      "\u001b[1;31mTypeError\u001b[0m                                 Traceback (most recent call last)",
      "\u001b[1;32m<ipython-input-56-296c93d7302c>\u001b[0m in \u001b[0;36m<module>\u001b[1;34m()\u001b[0m\n\u001b[1;32m----> 1\u001b[1;33m \u001b[0ma\u001b[0m\u001b[1;33m[\u001b[0m\u001b[1;36m2\u001b[0m\u001b[1;33m]\u001b[0m \u001b[1;33m=\u001b[0m \u001b[1;36m100\u001b[0m\u001b[1;33m\u001b[0m\u001b[0m\n\u001b[0m\u001b[0;32m      2\u001b[0m \u001b[0mprint\u001b[0m\u001b[1;33m(\u001b[0m\u001b[0ma\u001b[0m\u001b[1;33m)\u001b[0m\u001b[1;33m\u001b[0m\u001b[0m\n",
      "\u001b[1;31mTypeError\u001b[0m: 'tuple' object does not support item assignment"
     ]
    }
   ],
   "source": [
    "a[2] = 100\n",
    "print(a)"
   ]
  },
  {
   "cell_type": "code",
   "execution_count": 77,
   "metadata": {},
   "outputs": [
    {
     "name": "stdout",
     "output_type": "stream",
     "text": [
      "Enter values in ():2\n",
      "Enter postion to enter:1\n",
      "Enter the value to insert:\n",
      "3\n"
     ]
    },
    {
     "ename": "TypeError",
     "evalue": "'int' object is not subscriptable",
     "output_type": "error",
     "traceback": [
      "\u001b[1;31m---------------------------------------------------------------------------\u001b[0m",
      "\u001b[1;31mTypeError\u001b[0m                                 Traceback (most recent call last)",
      "\u001b[1;32m<ipython-input-77-7cdf104cf273>\u001b[0m in \u001b[0;36m<module>\u001b[1;34m()\u001b[0m\n\u001b[0;32m      3\u001b[0m \u001b[0mnum1\u001b[0m \u001b[1;33m=\u001b[0m \u001b[0minput\u001b[0m\u001b[1;33m(\u001b[0m\u001b[1;34m\"Enter the value to insert:\\n\"\u001b[0m\u001b[1;33m)\u001b[0m\u001b[1;33m\u001b[0m\u001b[0m\n\u001b[0;32m      4\u001b[0m \u001b[0mnum2\u001b[0m \u001b[1;33m=\u001b[0m \u001b[0mtuple\u001b[0m\u001b[1;33m(\u001b[0m\u001b[0mnum1\u001b[0m\u001b[1;33m)\u001b[0m\u001b[1;33m\u001b[0m\u001b[0m\n\u001b[1;32m----> 5\u001b[1;33m \u001b[0mnew\u001b[0m \u001b[1;33m=\u001b[0m \u001b[0mn\u001b[0m\u001b[1;33m[\u001b[0m\u001b[1;36m0\u001b[0m\u001b[1;33m:\u001b[0m\u001b[0mpos\u001b[0m\u001b[1;33m-\u001b[0m\u001b[1;36m1\u001b[0m\u001b[1;33m]\u001b[0m\u001b[1;33m+\u001b[0m\u001b[0mnum2\u001b[0m\u001b[1;33m[\u001b[0m\u001b[1;33m:\u001b[0m\u001b[1;33m]\u001b[0m\u001b[1;33m+\u001b[0m\u001b[0mn\u001b[0m\u001b[1;33m[\u001b[0m\u001b[0mpos\u001b[0m\u001b[1;33m:\u001b[0m\u001b[1;33m]\u001b[0m\u001b[1;33m\u001b[0m\u001b[0m\n\u001b[0m\u001b[0;32m      6\u001b[0m \u001b[0mprint\u001b[0m\u001b[1;33m(\u001b[0m\u001b[0mnew\u001b[0m\u001b[1;33m)\u001b[0m\u001b[1;33m\u001b[0m\u001b[0m\n",
      "\u001b[1;31mTypeError\u001b[0m: 'int' object is not subscriptable"
     ]
    }
   ],
   "source": [
    "n = eval(input(\"Enter values in ():\"))\n",
    "pos = int(input(\"Enter postion to enter:\"))\n",
    "num1 = input(\"Enter the value to insert:\\n\")\n",
    "num2 = tuple(num1)\n",
    "new = n[0:pos-1]+num2[:]+n[pos:]\n",
    "print(new)\n"
   ]
  },
  {
   "cell_type": "code",
   "execution_count": null,
   "metadata": {},
   "outputs": [],
   "source": [
    "num1 = 10\n",
    "tup = tuple(num1,)\n",
    "print(type(tup))n = eval(input(\"Enter values in ():\"))\n",
    "pos = int(input(\"Enter postion to enter:\"))\n",
    "num1 = input(\"Enter the value to insert:\\n\")\n",
    "num2 = tuple(num1)\n",
    "new = n[0:pos-1]+num2[:]+n[pos:]\n",
    "print(new)"
   ]
  },
  {
   "cell_type": "code",
   "execution_count": 80,
   "metadata": {},
   "outputs": [
    {
     "name": "stdout",
     "output_type": "stream",
     "text": [
      "<class 'str'>\n"
     ]
    }
   ],
   "source": [
    "print(type(num1))"
   ]
  },
  {
   "cell_type": "code",
   "execution_count": 81,
   "metadata": {},
   "outputs": [
    {
     "name": "stdout",
     "output_type": "stream",
     "text": [
      "('3',)\n"
     ]
    }
   ],
   "source": [
    "print(tuple(num1))"
   ]
  },
  {
   "cell_type": "code",
   "execution_count": 82,
   "metadata": {},
   "outputs": [
    {
     "name": "stdout",
     "output_type": "stream",
     "text": [
      "('3',)\n"
     ]
    }
   ],
   "source": [
    "num2 = tuple(num1)\n",
    "print(num2)"
   ]
  },
  {
   "cell_type": "code",
   "execution_count": 84,
   "metadata": {},
   "outputs": [
    {
     "name": "stdout",
     "output_type": "stream",
     "text": [
      "(10, '3', 20, 30, 40)\n"
     ]
    }
   ],
   "source": [
    "a = (10,20,30,40)\n",
    "b = a[:1]+num2[:]+a[1:]\n",
    "print(b)"
   ]
  },
  {
   "cell_type": "code",
   "execution_count": 85,
   "metadata": {},
   "outputs": [
    {
     "name": "stdout",
     "output_type": "stream",
     "text": [
      "<class 'int'>\n",
      "<class 'tuple'>\n"
     ]
    }
   ],
   "source": [
    "a =10\n",
    "b = (20,30,40,50)\n",
    "print(type(a))\n",
    "print(type(b))"
   ]
  },
  {
   "cell_type": "code",
   "execution_count": 86,
   "metadata": {},
   "outputs": [
    {
     "ename": "TypeError",
     "evalue": "'int' object is not iterable",
     "output_type": "error",
     "traceback": [
      "\u001b[1;31m---------------------------------------------------------------------------\u001b[0m",
      "\u001b[1;31mTypeError\u001b[0m                                 Traceback (most recent call last)",
      "\u001b[1;32m<ipython-input-86-809c1955a1e7>\u001b[0m in \u001b[0;36m<module>\u001b[1;34m()\u001b[0m\n\u001b[1;32m----> 1\u001b[1;33m \u001b[0mc\u001b[0m \u001b[1;33m=\u001b[0m \u001b[0mtuple\u001b[0m\u001b[1;33m(\u001b[0m\u001b[0ma\u001b[0m\u001b[1;33m,\u001b[0m\u001b[1;33m)\u001b[0m\u001b[1;33m+\u001b[0m\u001b[0mb\u001b[0m\u001b[1;33m\u001b[0m\u001b[0m\n\u001b[0m\u001b[0;32m      2\u001b[0m \u001b[0mprint\u001b[0m\u001b[1;33m(\u001b[0m\u001b[0mc\u001b[0m\u001b[1;33m)\u001b[0m\u001b[1;33m\u001b[0m\u001b[0m\n",
      "\u001b[1;31mTypeError\u001b[0m: 'int' object is not iterable"
     ]
    }
   ],
   "source": [
    "c = tuple(a,)+b\n",
    "print(c)"
   ]
  },
  {
   "cell_type": "code",
   "execution_count": 87,
   "metadata": {},
   "outputs": [
    {
     "ename": "TypeError",
     "evalue": "'int' object is not iterable",
     "output_type": "error",
     "traceback": [
      "\u001b[1;31m---------------------------------------------------------------------------\u001b[0m",
      "\u001b[1;31mTypeError\u001b[0m                                 Traceback (most recent call last)",
      "\u001b[1;32m<ipython-input-87-4aa2a53bba26>\u001b[0m in \u001b[0;36m<module>\u001b[1;34m()\u001b[0m\n\u001b[1;32m----> 1\u001b[1;33m \u001b[0mc\u001b[0m \u001b[1;33m=\u001b[0m \u001b[0mtuple\u001b[0m\u001b[1;33m(\u001b[0m\u001b[0ma\u001b[0m\u001b[1;33m,\u001b[0m\u001b[1;33m)\u001b[0m\u001b[1;33m\u001b[0m\u001b[0m\n\u001b[0m\u001b[0;32m      2\u001b[0m \u001b[0mprint\u001b[0m\u001b[1;33m(\u001b[0m\u001b[0mc\u001b[0m\u001b[1;33m)\u001b[0m\u001b[1;33m\u001b[0m\u001b[0m\n",
      "\u001b[1;31mTypeError\u001b[0m: 'int' object is not iterable"
     ]
    }
   ],
   "source": [
    "c = tuple(a,)\n",
    "print(c)"
   ]
  },
  {
   "cell_type": "code",
   "execution_count": 1,
   "metadata": {},
   "outputs": [
    {
     "name": "stdout",
     "output_type": "stream",
     "text": [
      "Enter values in ():10,20,30\n",
      "Enter postion to enter:2\n",
      "Enter the value to insert:\n",
      "2\n",
      "(10, 20, '2', 30)\n"
     ]
    }
   ],
   "source": [
    "n = eval(input(\"Enter values in ():\"))\n",
    "pos = int(input(\"Enter postion to enter:\"))\n",
    "num1 = input(\"Enter the value to insert:\\n\")\n",
    "num2 = tuple(num1,)\n",
    "new = n[0:pos]+num2+n[pos:]\n",
    "print(new)"
   ]
  },
  {
   "cell_type": "code",
   "execution_count": 13,
   "metadata": {},
   "outputs": [
    {
     "name": "stdout",
     "output_type": "stream",
     "text": [
      "{'id': 100, 'name': 'abc', 'sal': 25000.1}\n",
      "dict_keys(['id', 'name', 'sal'])\n",
      "dict_values([100, 'abc', 25000.1])\n",
      "dict_items([('id', 100), ('name', 'abc'), ('sal', 25000.1)])\n"
     ]
    }
   ],
   "source": [
    "dict = {'id':100,'name':'abc','sal':25000.10}\n",
    "print(dict)\n",
    "print(dict.keys())\n",
    "print(dict.values())\n",
    "print(dict.items())"
   ]
  },
  {
   "cell_type": "code",
   "execution_count": 15,
   "metadata": {},
   "outputs": [
    {
     "name": "stdout",
     "output_type": "stream",
     "text": [
      "{'id': 100, 'name': 'abc', 'sal': 25000.1, 'location': 'Hyderabad'}\n"
     ]
    }
   ],
   "source": [
    "dict['location'] = 'Hyderabad'\n",
    "print(dict)"
   ]
  },
  {
   "cell_type": "code",
   "execution_count": 23,
   "metadata": {},
   "outputs": [
    {
     "name": "stdout",
     "output_type": "stream",
     "text": [
      "Enter input dict values in {}:{'A':30,'B':40}\n",
      "Sum of the two values is 70\n"
     ]
    }
   ],
   "source": [
    "a = eval(input(\"Enter input dict values in {}:\"))\n",
    "print(\"Sum of the two values is\",sum(a.values()))"
   ]
  },
  {
   "cell_type": "code",
   "execution_count": 28,
   "metadata": {},
   "outputs": [
    {
     "name": "stdout",
     "output_type": "stream",
     "text": [
      "Enter no of elements you want to store:\n",
      "3\n",
      "Enter a key that you want to store:\n",
      "a\n",
      "Enter a Values that you want to Store:\n",
      "1\n",
      "{'a': 1}\n"
     ]
    }
   ],
   "source": [
    "x = {}\n",
    "n = input(\"Enter no of elements you want to store:\\n\")\n",
    "\n",
    "for i in n:\n",
    "     k = input(\"Enter a key that you want to store:\\n\")\n",
    "     v = int(input(\"Enter a Values that you want to Store:\\n\"))\n",
    "     x.update({k:v})\n",
    "       \n",
    "\n",
    "print(x)\n"
   ]
  },
  {
   "cell_type": "code",
   "execution_count": 29,
   "metadata": {},
   "outputs": [
    {
     "name": "stdout",
     "output_type": "stream",
     "text": [
      "no.of elements:3\n",
      "enter key: \n",
      "a\n",
      "enter value: \n",
      "1\n",
      "enter key: \n",
      "b\n",
      "enter value: \n",
      "2\n",
      "enter key: \n",
      "c\n",
      "enter value: \n",
      "3\n",
      "the dictionary is : {'a': 1, 'b': 2, 'c': 3}\n"
     ]
    }
   ],
   "source": [
    "x = {}\n",
    "n = int(input(\"no.of elements:\"))\n",
    "\n",
    "for i in range(n):\n",
    " print('enter key: \\n',end = '')\n",
    " k=input()\n",
    " print('enter value: \\n',end = '')\n",
    " v=int(input())\n",
    " x.update({k:v})\n",
    " \n",
    "print('the dictionary is :',x)"
   ]
  },
  {
   "cell_type": "code",
   "execution_count": 31,
   "metadata": {},
   "outputs": [
    {
     "name": "stdout",
     "output_type": "stream",
     "text": [
      "ENter no of elements;3\n",
      "Enter a key to store:a\n",
      "Enter a value to store:1\n",
      "Enter a key to store:b\n",
      "Enter a value to store:2\n",
      "Enter a key to store:c\n",
      "Enter a value to store:3\n",
      "The Stored dictionary is  {'a': 1, 'b': 2, 'c': 3}\n"
     ]
    }
   ],
   "source": [
    "x = {}\n",
    "n = int(input(\"ENter no of elements:\"))\n",
    "\n",
    "for i in range(n):\n",
    "    k = input(\"Enter a key to store:\")\n",
    "    v = int(input(\"Enter a value to store:\"))\n",
    "    x.update({k:v})\n",
    "print(\"The Stored dictionary is \",x)"
   ]
  },
  {
   "cell_type": "code",
   "execution_count": 37,
   "metadata": {},
   "outputs": [
    {
     "name": "stdout",
     "output_type": "stream",
     "text": [
      "Enter no of players:2\n",
      "Enter Player name :aaa\n",
      "Enter Player score: 10\n",
      "Enter Player name :bbb\n",
      "Enter Player score: 20\n",
      "List of players are dict_keys(['aaa', 'bbb'])\n",
      "Enter player name to search for a score:ccc\n",
      "Player not found on the list\n"
     ]
    }
   ],
   "source": [
    "players = {}\n",
    "n = int(input(\"Enter no of players:\"))\n",
    "\n",
    "for i in range(n):\n",
    "    name = input(\"Enter Player name :\")\n",
    "    score = int(input(\"Enter Player score: \"))\n",
    "    players.update({name:score})\n",
    "\n",
    "print(\"List of players are\",players.keys())\n",
    "\n",
    "player_name = input(\"Enter player name to search for a score:\")\n",
    "\n",
    "if player_name in players.keys():\n",
    "    print(\"Player : {} has scored {} runs\".format(name,score))\n",
    "else:\n",
    "    print(\"Player not found on the list\")"
   ]
  },
  {
   "cell_type": "code",
   "execution_count": 45,
   "metadata": {},
   "outputs": [
    {
     "name": "stdout",
     "output_type": "stream",
     "text": [
      "Enter no of players:3\n",
      "Enter Player name :aaa\n",
      "Enter Player score: 10\n",
      "Enter Player name :bbb\n",
      "Enter Player score: 20\n",
      "Enter Player name :ccc\n",
      "Enter Player score: 30\n",
      "List of players are dict_keys(['aaa', 'bbb', 'ccc'])\n",
      "Enter player name to search for a score:ccc\n",
      "Player : ccc has scored 30 runs\n"
     ]
    }
   ],
   "source": [
    "players = {}\n",
    "n = int(input(\"Enter no of players:\"))\n",
    "\n",
    "for i in range(n):\n",
    "    name = input(\"Enter Player name :\")\n",
    "    score = int(input(\"Enter Player score: \"))\n",
    "    players.update({name:score})\n",
    "\n",
    "print(\"List of players are\",players.keys())\n",
    "\n",
    "player_name = input(\"Enter player name to search for a score:\")\n",
    "\n",
    "Value = players.get(player_name,-1)\n",
    "\n",
    "if Value!=-1:\n",
    "    print(\"Player : {} has scored {} runs\".format(player_name,Value))\n",
    "else:\n",
    "    print(\"Player not found on the list\")"
   ]
  },
  {
   "cell_type": "code",
   "execution_count": 40,
   "metadata": {},
   "outputs": [
    {
     "name": "stdout",
     "output_type": "stream",
     "text": [
      "-1\n"
     ]
    }
   ],
   "source": [
    "Value = players.get('ccc',-1)\n",
    "print(Value)"
   ]
  },
  {
   "cell_type": "code",
   "execution_count": 50,
   "metadata": {},
   "outputs": [
    {
     "name": "stdout",
     "output_type": "stream",
     "text": [
      "R\n",
      "B\n",
      "G\n",
      "Red\n",
      "Blue\n",
      "Green\n",
      "dict_items([('R', 'Red'), ('B', 'Blue'), ('G', 'Green')])\n",
      "Key = R and value = Red\n",
      "Key = B and value = Blue\n",
      "Key = G and value = Green\n"
     ]
    }
   ],
   "source": [
    "colors = {'R':'Red','B':'Blue','G':'Green'}\n",
    "for i in colors:\n",
    "    print(i)\n",
    "for j in colors:\n",
    "    print(colors[j])\n",
    "print(colors.items())\n",
    "\n",
    "for k,v in colors.items():\n",
    "    print(\"Key = {} and value = {}\".format(k,v))"
   ]
  },
  {
   "cell_type": "code",
   "execution_count": 54,
   "metadata": {},
   "outputs": [
    {
     "name": "stdout",
     "output_type": "stream",
     "text": [
      "{'B': 1, 'o': 2, 'k': 1, 's': 1}\n",
      "B is found 1 times \n",
      "o is found 2 times \n",
      "k is found 1 times \n",
      "s is found 1 times \n"
     ]
    }
   ],
   "source": [
    "letters = {}\n",
    "x = 'Books'\n",
    "for i in x:\n",
    "    letters[i]=letters.get(i,0)+1\n",
    "print(letters)\n",
    "\n",
    "for k,v in letters.items():\n",
    "    print(\"{} is found {} times \".format(k,v))\n",
    "    "
   ]
  },
  {
   "cell_type": "code",
   "execution_count": null,
   "metadata": {},
   "outputs": [],
   "source": []
  }
 ],
 "metadata": {
  "kernelspec": {
   "display_name": "Python 3",
   "language": "python",
   "name": "python3"
  },
  "language_info": {
   "codemirror_mode": {
    "name": "ipython",
    "version": 3
   },
   "file_extension": ".py",
   "mimetype": "text/x-python",
   "name": "python",
   "nbconvert_exporter": "python",
   "pygments_lexer": "ipython3",
   "version": "3.6.5"
  }
 },
 "nbformat": 4,
 "nbformat_minor": 2
}
