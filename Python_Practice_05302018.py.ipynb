{
 "cells": [
  {
   "cell_type": "code",
   "execution_count": null,
   "metadata": {},
   "outputs": [
    {
     "name": "stdout",
     "output_type": "stream",
     "text": [
      "Welcome\n"
     ]
    }
   ],
   "source": [
    "print(\"Welcome\")"
   ]
  },
  {
   "cell_type": "code",
   "execution_count": 2,
   "metadata": {},
   "outputs": [
    {
     "name": "stdout",
     "output_type": "stream",
     "text": [
      "W\n",
      "e\n",
      "l\n",
      "c\n",
      "o\n",
      "m\n",
      "e\n"
     ]
    }
   ],
   "source": [
    "str = \"Welcome\"\n",
    "for i in str:\n",
    "    print(i)\n",
    "    "
   ]
  },
  {
   "cell_type": "code",
   "execution_count": 4,
   "metadata": {},
   "outputs": [
    {
     "name": "stdout",
     "output_type": "stream",
     "text": [
      "W\n",
      "e\n",
      "l\n",
      "c\n",
      "o\n",
      "m\n",
      "e\n"
     ]
    }
   ],
   "source": [
    "str = \"Welcome\"\n",
    "for i in range(len(str)):\n",
    "    print(str[i])"
   ]
  },
  {
   "cell_type": "code",
   "execution_count": 6,
   "metadata": {},
   "outputs": [
    {
     "name": "stdout",
     "output_type": "stream",
     "text": [
      "e\n",
      "m\n",
      "o\n",
      "c\n",
      "l\n",
      "e\n",
      "W\n"
     ]
    }
   ],
   "source": [
    "for i in range(len(str)-1,-1,-1):\n",
    "    print(str[i])"
   ]
  },
  {
   "cell_type": "code",
   "execution_count": 7,
   "metadata": {},
   "outputs": [
    {
     "name": "stdout",
     "output_type": "stream",
     "text": [
      "emocleW\n"
     ]
    }
   ],
   "source": [
    "print(str[::-1])"
   ]
  },
  {
   "cell_type": "code",
   "execution_count": 8,
   "metadata": {},
   "outputs": [
    {
     "name": "stdout",
     "output_type": "stream",
     "text": [
      "l\n"
     ]
    }
   ],
   "source": [
    "print(str[-5])"
   ]
  },
  {
   "cell_type": "code",
   "execution_count": 9,
   "metadata": {},
   "outputs": [
    {
     "name": "stdout",
     "output_type": "stream",
     "text": [
      "m\n"
     ]
    }
   ],
   "source": [
    "print(str[5])"
   ]
  },
  {
   "cell_type": "code",
   "execution_count": 10,
   "metadata": {},
   "outputs": [
    {
     "name": "stdout",
     "output_type": "stream",
     "text": [
      "WelcomeWelcome\n"
     ]
    }
   ],
   "source": [
    "print(str*2)"
   ]
  },
  {
   "cell_type": "code",
   "execution_count": 19,
   "metadata": {},
   "outputs": [
    {
     "name": "stdout",
     "output_type": "stream",
     "text": [
      "W\n",
      "e\n",
      "l\n",
      "c\n",
      "o\n",
      "m\n",
      "e\n",
      "e \n",
      "\n",
      "m \n",
      "\n",
      "o \n",
      "\n",
      "c \n",
      "\n",
      "l \n",
      "\n",
      "e \n",
      "\n",
      "W \n",
      "\n"
     ]
    }
   ],
   "source": [
    "for i in range(len(str)):\n",
    "    print(str[i])\n",
    "for i in range(len(str)-1,-1,-1):\n",
    "    print(str[i],\"\\n\")"
   ]
  },
  {
   "cell_type": "code",
   "execution_count": 20,
   "metadata": {},
   "outputs": [
    {
     "name": "stdout",
     "output_type": "stream",
     "text": [
      "Python nohtyP\n"
     ]
    }
   ],
   "source": [
    "str1 = \"Python\"\n",
    "str2 = str1[::-1]\n",
    "print(str1,str2)"
   ]
  },
  {
   "cell_type": "code",
   "execution_count": 27,
   "metadata": {},
   "outputs": [
    {
     "name": "stdout",
     "output_type": "stream",
     "text": [
      "P y t h o n \n",
      "\n",
      "n o h t y P "
     ]
    }
   ],
   "source": [
    "for i in str1:\n",
    "    print(i,end =\" \")\n",
    "print(\"\\n\")\n",
    "for j in str2:\n",
    "    print(j,end = \" \")"
   ]
  },
  {
   "cell_type": "code",
   "execution_count": 30,
   "metadata": {},
   "outputs": [
    {
     "name": "stdout",
     "output_type": "stream",
     "text": [
      "P\n",
      "n\n",
      "y\n",
      "n\n",
      "t\n",
      "n\n",
      "h\n",
      "n\n",
      "o\n",
      "n\n",
      "n\n",
      "n\n"
     ]
    }
   ],
   "source": [
    "for i in str1:\n",
    "    print(i)\n",
    "    for j in str2:\n",
    "        print(j)\n",
    "        break"
   ]
  },
  {
   "cell_type": "code",
   "execution_count": 31,
   "metadata": {},
   "outputs": [
    {
     "name": "stdout",
     "output_type": "stream",
     "text": [
      "PythonnohtyP\n"
     ]
    }
   ],
   "source": [
    "print(str1+str2)"
   ]
  },
  {
   "cell_type": "code",
   "execution_count": 33,
   "metadata": {},
   "outputs": [
    {
     "name": "stdout",
     "output_type": "stream",
     "text": [
      "Python nohtyP\n"
     ]
    }
   ],
   "source": [
    "print(str1+\" \"+str2)"
   ]
  },
  {
   "cell_type": "code",
   "execution_count": 36,
   "metadata": {},
   "outputs": [
    {
     "name": "stdout",
     "output_type": "stream",
     "text": [
      "Membership\n"
     ]
    }
   ],
   "source": [
    "if 'n' in str1:\n",
    "    print(\"Membership\")\n",
    "else:\n",
    "    print(\"Not there\")"
   ]
  },
  {
   "cell_type": "code",
   "execution_count": 37,
   "metadata": {},
   "outputs": [
    {
     "name": "stdout",
     "output_type": "stream",
     "text": [
      "none are same\n"
     ]
    }
   ],
   "source": [
    "str1 = \"string\"\n",
    "str2 = \"      string\"\n",
    "str3 = \"string      \"\n",
    "str4 = \"      string     \"\n",
    "if str1 == str2:\n",
    "    print(\"str1 and str2 are same\")\n",
    "elif str1 == str3:\n",
    "    print(\"str1 and str3 are same\")\n",
    "elif str1 == str4:\n",
    "    print(\"str1 and str4 are same\")\n",
    "else:\n",
    "    print(\"none are same\")"
   ]
  },
  {
   "cell_type": "code",
   "execution_count": 46,
   "metadata": {},
   "outputs": [
    {
     "name": "stdout",
     "output_type": "stream",
     "text": [
      "str1 and str2 are same\n",
      "str1 and str3 are same\n",
      "str1 and str4 are same\n"
     ]
    }
   ],
   "source": [
    "str1 = \"string\"\n",
    "str2 = \"      string\"\n",
    "str3 = \"string      \"\n",
    "str4 = \"      string     \"\n",
    "if str1 == str2.lstrip():\n",
    "    print(\"str1 and str2 are same\")\n",
    "    \n",
    "    if str1 == str3.rstrip():\n",
    "        print(\"str1 and str3 are same\")\n",
    "    \n",
    "    if str1 == str4.strip():\n",
    "        print(\"str1 and str4 are same\")\n",
    "    \n",
    "else:\n",
    "    print(\"none are same\")"
   ]
  },
  {
   "cell_type": "code",
   "execution_count": 58,
   "metadata": {},
   "outputs": [
    {
     "name": "stdout",
     "output_type": "stream",
     "text": [
      "3\n",
      "3\n"
     ]
    }
   ],
   "source": [
    "str1 = \"str1 and str2 are same\"\n",
    "n = str1.count(\"a\")\n",
    "print(n)\n",
    "n = print(str1.count('s',0,len(str1)))"
   ]
  },
  {
   "cell_type": "code",
   "execution_count": 64,
   "metadata": {},
   "outputs": [
    {
     "name": "stdout",
     "output_type": "stream",
     "text": [
      "2\n"
     ]
    }
   ],
   "source": [
    "str1 = 'python python'\n",
    "\n",
    "n = str1.count('o',3,len(str1))\n",
    "\n",
    "print(n)"
   ]
  },
  {
   "cell_type": "code",
   "execution_count": 65,
   "metadata": {},
   "outputs": [
    {
     "name": "stdout",
     "output_type": "stream",
     "text": [
      "**thon **thon\n"
     ]
    }
   ],
   "source": [
    "print(str1.replace('py','**'))"
   ]
  },
  {
   "cell_type": "code",
   "execution_count": 67,
   "metadata": {},
   "outputs": [
    {
     "name": "stdout",
     "output_type": "stream",
     "text": [
      "['one', 'two', 'three', 'four']\n"
     ]
    }
   ],
   "source": [
    "str = \"one two three four\"\n",
    "\n",
    "print(str.split(\" \"))"
   ]
  },
  {
   "cell_type": "code",
   "execution_count": 70,
   "metadata": {},
   "outputs": [
    {
     "name": "stdout",
     "output_type": "stream",
     "text": [
      "['one', 'two', 'three', 'four']\n",
      "['one', 'two', 'three', 'four']\n",
      "['one', 'two', 'three', 'four']\n",
      "['one', 'two', 'three', 'four']\n",
      "['one', 'two', 'three', 'four']\n",
      "['one', 'two', 'three', 'four']\n",
      "['one', 'two', 'three', 'four']\n",
      "['one', 'two', 'three', 'four']\n",
      "['one', 'two', 'three', 'four']\n",
      "['one', 'two', 'three', 'four']\n",
      "['one', 'two', 'three', 'four']\n",
      "['one', 'two', 'three', 'four']\n",
      "['one', 'two', 'three', 'four']\n",
      "['one', 'two', 'three', 'four']\n",
      "['one', 'two', 'three', 'four']\n",
      "['one', 'two', 'three', 'four']\n",
      "['one', 'two', 'three', 'four']\n",
      "['one', 'two', 'three', 'four']\n"
     ]
    }
   ],
   "source": [
    "for i in str:\n",
    "    print(str.split(\" \"))"
   ]
  },
  {
   "cell_type": "code",
   "execution_count": 72,
   "metadata": {},
   "outputs": [
    {
     "name": "stdout",
     "output_type": "stream",
     "text": [
      "one\n",
      "two\n",
      "three\n",
      "four\n"
     ]
    }
   ],
   "source": [
    "str2 = str.split(\" \")\n",
    "for i in str2:\n",
    "    print(i)"
   ]
  },
  {
   "cell_type": "code",
   "execution_count": 73,
   "metadata": {},
   "outputs": [
    {
     "name": "stdout",
     "output_type": "stream",
     "text": [
      "one$two$three$four\n"
     ]
    }
   ],
   "source": [
    "print('$'.join(str2))"
   ]
  },
  {
   "cell_type": "code",
   "execution_count": 75,
   "metadata": {},
   "outputs": [
    {
     "name": "stdout",
     "output_type": "stream",
     "text": [
      "4\n"
     ]
    }
   ],
   "source": [
    "a = \"Hello World!, Welcome to Python\"\n",
    "n = a.find('o',0,len(a))\n",
    "print(n)"
   ]
  },
  {
   "cell_type": "code",
   "execution_count": 93,
   "metadata": {},
   "outputs": [
    {
     "ename": "TypeError",
     "evalue": "'int' object is not iterable",
     "traceback": [
      "\u001b[1;31m---------------------------------------------------------------------------\u001b[0m",
      "\u001b[1;31mTypeError\u001b[0m                                 Traceback (most recent call last)",
      "\u001b[1;32m<ipython-input-93-d4735d6a61a7>\u001b[0m in \u001b[0;36m<module>\u001b[1;34m()\u001b[0m\n\u001b[0;32m      1\u001b[0m \u001b[0mi\u001b[0m \u001b[1;33m=\u001b[0m \u001b[1;36m0\u001b[0m\u001b[1;33m\u001b[0m\u001b[0m\n\u001b[1;32m----> 2\u001b[1;33m \u001b[1;32mfor\u001b[0m \u001b[0mi\u001b[0m \u001b[1;32min\u001b[0m \u001b[0mlen\u001b[0m\u001b[1;33m(\u001b[0m\u001b[0ma\u001b[0m\u001b[1;33m)\u001b[0m\u001b[1;33m:\u001b[0m\u001b[1;33m\u001b[0m\u001b[0m\n\u001b[0m\u001b[0;32m      3\u001b[0m     \u001b[0mn\u001b[0m \u001b[1;33m=\u001b[0m \u001b[0ma\u001b[0m\u001b[1;33m.\u001b[0m\u001b[0mfind\u001b[0m\u001b[1;33m(\u001b[0m\u001b[1;34m'o'\u001b[0m\u001b[1;33m,\u001b[0m\u001b[0mi\u001b[0m\u001b[1;33m,\u001b[0m\u001b[0mlen\u001b[0m\u001b[1;33m(\u001b[0m\u001b[0ma\u001b[0m\u001b[1;33m)\u001b[0m\u001b[1;33m)\u001b[0m\u001b[1;33m\u001b[0m\u001b[0m\n\u001b[0;32m      4\u001b[0m     \u001b[1;32mif\u001b[0m \u001b[0mn\u001b[0m\u001b[1;33m!=\u001b[0m\u001b[1;33m-\u001b[0m\u001b[1;36m1\u001b[0m\u001b[1;33m:\u001b[0m\u001b[1;33m\u001b[0m\u001b[0m\n\u001b[0;32m      5\u001b[0m         \u001b[0mprint\u001b[0m\u001b[1;33m(\u001b[0m\u001b[1;34m\"the 'o' find at position\"\u001b[0m\u001b[1;33m,\u001b[0m\u001b[0mn\u001b[0m\u001b[1;33m+\u001b[0m\u001b[1;36m1\u001b[0m\u001b[1;33m)\u001b[0m\u001b[1;33m\u001b[0m\u001b[0m\n",
      "\u001b[1;31mTypeError\u001b[0m: 'int' object is not iterable"
     ],
     "output_type": "error"
    }
   ],
   "source": [
    "i = 0\n",
    "for i in len(a):\n",
    "    n = a.find('o',i,len(a))\n",
    "    if n!=-1:\n",
    "        print(\"the 'o' find at position\",n+1)\n",
    "        i = n + 1\n",
    "    else:\n",
    "        i = i+1"
   ]
  },
  {
   "cell_type": "code",
   "execution_count": 94,
   "metadata": {},
   "outputs": [
    {
     "data": {
      "text/plain": [
       "int"
      ]
     },
     "execution_count": 94,
     "metadata": {},
     "output_type": "execute_result"
    }
   ],
   "source": [
    "n = a.find('o',i,len(a))\n",
    "type(n)"
   ]
  },
  {
   "cell_type": "code",
   "execution_count": 98,
   "metadata": {},
   "outputs": [
    {
     "name": "stdout",
     "output_type": "stream",
     "text": [
      "found at position: 5\n",
      "found at position: 8\n",
      "found at position: 19\n",
      "found at position: 24\n",
      "found at position: 30\n"
     ]
    }
   ],
   "source": [
    "str1 = \"Hello World!, Welcome to Python\"\n",
    "sub = \"o\"\n",
    "\n",
    "i = 0\n",
    "flag = False\n",
    "\n",
    "n = len(str1)\n",
    "\n",
    "while i < n:\n",
    " pos = str1.find(sub,i,n)\n",
    " if pos != -1:\n",
    "  print(\"found at position:\", pos + 1)\n",
    "  i = pos + 1\n",
    "  flag = True\n",
    " else:\n",
    "  i = i + 1\n",
    "\n",
    "if flag == False:\n",
    " print(\"sub string not found\")"
   ]
  },
  {
   "cell_type": "code",
   "execution_count": 99,
   "metadata": {},
   "outputs": [
    {
     "name": "stdout",
     "output_type": "stream",
     "text": [
      "HELLO WORLD!, WELCOME TO PYTHON\n"
     ]
    }
   ],
   "source": [
    "print(str1.upper())"
   ]
  },
  {
   "cell_type": "code",
   "execution_count": 100,
   "metadata": {},
   "outputs": [
    {
     "name": "stdout",
     "output_type": "stream",
     "text": [
      "Hello World!, Welcome To Python\n"
     ]
    }
   ],
   "source": [
    "print(str1.title())"
   ]
  },
  {
   "cell_type": "code",
   "execution_count": 101,
   "metadata": {},
   "outputs": [
    {
     "name": "stdout",
     "output_type": "stream",
     "text": [
      "hello world!, welcome to python\n"
     ]
    }
   ],
   "source": [
    "print(str1.lower())"
   ]
  },
  {
   "cell_type": "code",
   "execution_count": 102,
   "metadata": {},
   "outputs": [
    {
     "name": "stdout",
     "output_type": "stream",
     "text": [
      "hELLO wORLD!, wELCOME TO pYTHON\n"
     ]
    }
   ],
   "source": [
    "print(str1.swapcase())"
   ]
  },
  {
   "cell_type": "code",
   "execution_count": 106,
   "metadata": {},
   "outputs": [
    {
     "name": "stdout",
     "output_type": "stream",
     "text": [
      "['one', ' two', ' three', ' four']\n"
     ]
    }
   ],
   "source": [
    "string = \"one, two, three, four\"\n",
    "str1 = string.split(\",\")\n",
    "print(str1)\n",
    "str1.sort()"
   ]
  },
  {
   "cell_type": "code",
   "execution_count": 107,
   "metadata": {},
   "outputs": [
    {
     "name": "stdout",
     "output_type": "stream",
     "text": [
      "['abc', 'cfg', 'xdc', 'gtg']\n",
      "None\n"
     ]
    }
   ],
   "source": [
    "a = ['abc','cfg','xdc','gtg']\n",
    "print(a)\n",
    "print(a.sort())"
   ]
  },
  {
   "cell_type": "code",
   "execution_count": 109,
   "metadata": {},
   "outputs": [
    {
     "name": "stdout",
     "output_type": "stream",
     "text": [
      "None\n"
     ]
    }
   ],
   "source": [
    "str = ['ball','cat','appple']\n",
    "print(str.sort())\n"
   ]
  },
  {
   "cell_type": "code",
   "execution_count": null,
   "metadata": {},
   "outputs": [],
   "source": []
  }
 ],
 "metadata": {
  "kernelspec": {
   "display_name": "Python 3",
   "language": "python",
   "name": "python3"
  },
  "language_info": {
   "codemirror_mode": {
    "name": "ipython",
    "version": 3
   },
   "file_extension": ".py",
   "mimetype": "text/x-python",
   "name": "python",
   "nbconvert_exporter": "python",
   "pygments_lexer": "ipython3",
   "version": "3.6.5"
  }
 },
 "nbformat": 4,
 "nbformat_minor": 2
}
